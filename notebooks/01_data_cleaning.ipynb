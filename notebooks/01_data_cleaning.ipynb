{
 "cells": [
  {
   "cell_type": "markdown",
   "metadata": {},
   "source": [
    "## Laptop Price Prediction - Data Cleaning\n",
    "This notebook covers all steps to clean and prepare the dataset for modeling.\n",
    "We will:\n",
    "1. Drop unnecessary columns.\n",
    "2. Convert text columns to numeric.\n",
    "3. Parse complex columns (Memory, ScreenResolution).\n",
    "4. Encode categorical features.\n",
    "5. Prepare the target variable."
   ]
  },
  {
   "cell_type": "markdown",
   "metadata": {},
   "source": [
    "### Step 0: Import, Load & Preview\n",
    "- Import `pandas` and `numpy` as pd and np respectively.\n",
    "- Load the dataset.\n",
    "- Display the column names to get a good overview of everything.\n",
    "- Display the first few rows of the dataset."
   ]
  },
  {
   "cell_type": "code",
   "execution_count": null,
   "metadata": {},
   "outputs": [],
   "source": [
    "# 01_data_cleaning.ipynb\n",
    "import pandas as pd\n",
    "import numpy as np"
   ]
  },
  {
   "cell_type": "code",
   "execution_count": null,
   "metadata": {},
   "outputs": [],
   "source": [
    "# Load dataset\n",
    "data = pd.read_csv(\"../data/raw/laptop_price.csv\", encoding=\"ISO-8859-1\")"
   ]
  },
  {
   "cell_type": "code",
   "execution_count": null,
   "metadata": {},
   "outputs": [],
   "source": [
    "# Show the column names\n",
    "print(\"Columns in dataset:\")\n",
    "print(data.columns.tolist())"
   ]
  },
  {
   "cell_type": "code",
   "execution_count": null,
   "metadata": {},
   "outputs": [],
   "source": [
    "data.head()  # Display the first few rows of the dataset"
   ]
  },
  {
   "cell_type": "markdown",
   "metadata": {},
   "source": [
    "### Step 1: Drop Unnecesary Columns\n",
    "We drop `laptop_ID` and `Product` because they don't provide useful information for predicting the price."
   ]
  },
  {
   "cell_type": "code",
   "execution_count": null,
   "metadata": {},
   "outputs": [],
   "source": [
    "# Drop columns\n",
    "data = data.drop(['laptop_ID', 'Product'], axis=1)\n",
    "# print(data.columns.tolist())\n",
    "# data.head(1)"
   ]
  },
  {
   "cell_type": "markdown",
   "metadata": {},
   "source": [
    "### Step 2: Convert RAM To Numeric\n",
    "The `Ram` column contains text like \"8GB\". We remove \"GB\" and convert it to integer for modeling."
   ]
  },
  {
   "cell_type": "code",
   "execution_count": null,
   "metadata": {},
   "outputs": [],
   "source": [
    "data['Ram'] = data['Ram'].str.replace('GB', '').astype(int)\n",
    "data['Ram'].head()"
   ]
  },
  {
   "cell_type": "markdown",
   "metadata": {},
   "source": [
    "### Step 3: Convert Weight To Numeric\n",
    "The `Weight` column contains text like \"1.37kg\". We remove \"kg\" and convert it to float."
   ]
  },
  {
   "cell_type": "code",
   "execution_count": null,
   "metadata": {},
   "outputs": [],
   "source": [
    "data['Weight'] = data['Weight'].str.replace('kg', '').astype(float)\n",
    "data['Weight'].head()"
   ]
  },
  {
   "cell_type": "markdown",
   "metadata": {},
   "source": [
    "### Step 4: Parse Memory Column\n",
    "The `Memory` column contains text like \"256GB SSD + 1TB HDD\".\n",
    "We will split it into separate columns for SSD, HDD, Hybrid storage and convert everything to GB."
   ]
  },
  {
   "cell_type": "code",
   "execution_count": null,
   "metadata": {},
   "outputs": [],
   "source": [
    "# Create new columns with default 0\n",
    "data['SSD'] = 0\n",
    "data['HDD'] = 0\n",
    "data['Hybrid'] = 0\n",
    "data['Flash_Storage'] = 0\n",
    "\n",
    "# Function to convert memory strings to numbers."
   ]
  }
 ],
 "metadata": {
  "kernelspec": {
   "display_name": "Python 3",
   "language": "python",
   "name": "python3"
  },
  "language_info": {
   "codemirror_mode": {
    "name": "ipython",
    "version": 3
   },
   "file_extension": ".py",
   "mimetype": "text/x-python",
   "name": "python",
   "nbconvert_exporter": "python",
   "pygments_lexer": "ipython3",
   "version": "3.12.2"
  }
 },
 "nbformat": 4,
 "nbformat_minor": 2
}
