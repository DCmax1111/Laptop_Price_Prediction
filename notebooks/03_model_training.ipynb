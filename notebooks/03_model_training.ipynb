{
 "cells": [
  {
   "cell_type": "markdown",
   "id": "c8abe6a5",
   "metadata": {},
   "source": [
    "# Laptop Price Prediction — Model Training\n",
    "This notebook trains and evaluates baseline models to predict `Price_euros`.\n",
    "We will:\n",
    "- Load the cleaned dataset.\n",
    "- Split into train/test sets.\n",
    "- Optionally scale numeric features.\n",
    "- Train a baseline Linear Regression.\n",
    "- Train a Random Forest regressor.\n",
    "- Evaluate with MAE, RMSE and R².\n",
    "- Visualize predictions and save the best model (for later Streamlit use)."
   ]
  },
  {
   "cell_type": "markdown",
   "id": "d6489800",
   "metadata": {},
   "source": [
    "### Step 0 - Imports\n",
    "Import necessary libraries (Imports used throughout the notebook)."
   ]
  },
  {
   "cell_type": "code",
   "execution_count": 2,
   "id": "93f2c020",
   "metadata": {},
   "outputs": [],
   "source": [
    "# Step 0 - imports\n",
    "import os\n",
    "import joblib\n",
    "import numpy as np\n",
    "import pandas as pd\n",
    "import seaborn as sns\n",
    "import matplotlib.pyplot as plt\n",
    "\n",
    "from sklearn.preprocessing import StandardScaler\n",
    "from sklearn.linear_model import LinearRegression\n",
    "from sklearn.ensemble import RandomForestRegressor\n",
    "from sklearn.model_selection import train_test_split\n",
    "from sklearn.metrics import mean_absolute_error, mean_squared_error, r2_score\n",
    "\n",
    "sns.set(style=\"whitegrid\")\n",
    "RANDOM_STATE = 1  \n",
    "# We will use random_state=1 and test_size=0.2 (20%) as our group's values.\n",
    "\n",
    "# Ensure output folders exist\n",
    "os.makedirs(\"../models\", exist_ok=True)\n",
    "os.makedirs(\"../reports/figures\", exist_ok=True)"
   ]
  },
  {
   "cell_type": "markdown",
   "id": "bcbb7176",
   "metadata": {},
   "source": [
    "### Step 1 - Load Dataset\n",
    "Load the processed CSV saved from data cleaning."
   ]
  },
  {
   "cell_type": "code",
   "execution_count": 3,
   "id": "00fada4a",
   "metadata": {},
   "outputs": [
    {
     "name": "stdout",
     "output_type": "stream",
     "text": [
      "Shape: (1303, 30)\n"
     ]
    },
    {
     "data": {
      "text/html": [
       "<div>\n",
       "<style scoped>\n",
       "    .dataframe tbody tr th:only-of-type {\n",
       "        vertical-align: middle;\n",
       "    }\n",
       "\n",
       "    .dataframe tbody tr th {\n",
       "        vertical-align: top;\n",
       "    }\n",
       "\n",
       "    .dataframe thead th {\n",
       "        text-align: right;\n",
       "    }\n",
       "</style>\n",
       "<table border=\"1\" class=\"dataframe\">\n",
       "  <thead>\n",
       "    <tr style=\"text-align: right;\">\n",
       "      <th></th>\n",
       "      <th>Company</th>\n",
       "      <th>Inches</th>\n",
       "      <th>Ram</th>\n",
       "      <th>Weight</th>\n",
       "      <th>Price_euros</th>\n",
       "      <th>SSD</th>\n",
       "      <th>HDD</th>\n",
       "      <th>Hybrid</th>\n",
       "      <th>Flash_Storage</th>\n",
       "      <th>Touchscreen</th>\n",
       "      <th>...</th>\n",
       "      <th>Gpu_brand_Intel</th>\n",
       "      <th>Gpu_brand_Nvidia</th>\n",
       "      <th>OpSys_Chrome OS</th>\n",
       "      <th>OpSys_Linux</th>\n",
       "      <th>OpSys_Mac OS X</th>\n",
       "      <th>OpSys_No OS</th>\n",
       "      <th>OpSys_Windows 10</th>\n",
       "      <th>OpSys_Windows 10 S</th>\n",
       "      <th>OpSys_Windows 7</th>\n",
       "      <th>OpSys_macOS</th>\n",
       "    </tr>\n",
       "  </thead>\n",
       "  <tbody>\n",
       "    <tr>\n",
       "      <th>0</th>\n",
       "      <td>Apple</td>\n",
       "      <td>13.3</td>\n",
       "      <td>8</td>\n",
       "      <td>1.37</td>\n",
       "      <td>1339.69</td>\n",
       "      <td>128</td>\n",
       "      <td>0</td>\n",
       "      <td>0</td>\n",
       "      <td>0</td>\n",
       "      <td>0</td>\n",
       "      <td>...</td>\n",
       "      <td>True</td>\n",
       "      <td>False</td>\n",
       "      <td>False</td>\n",
       "      <td>False</td>\n",
       "      <td>False</td>\n",
       "      <td>False</td>\n",
       "      <td>False</td>\n",
       "      <td>False</td>\n",
       "      <td>False</td>\n",
       "      <td>True</td>\n",
       "    </tr>\n",
       "    <tr>\n",
       "      <th>1</th>\n",
       "      <td>Apple</td>\n",
       "      <td>13.3</td>\n",
       "      <td>8</td>\n",
       "      <td>1.34</td>\n",
       "      <td>898.94</td>\n",
       "      <td>0</td>\n",
       "      <td>0</td>\n",
       "      <td>0</td>\n",
       "      <td>128</td>\n",
       "      <td>0</td>\n",
       "      <td>...</td>\n",
       "      <td>True</td>\n",
       "      <td>False</td>\n",
       "      <td>False</td>\n",
       "      <td>False</td>\n",
       "      <td>False</td>\n",
       "      <td>False</td>\n",
       "      <td>False</td>\n",
       "      <td>False</td>\n",
       "      <td>False</td>\n",
       "      <td>True</td>\n",
       "    </tr>\n",
       "    <tr>\n",
       "      <th>2</th>\n",
       "      <td>HP</td>\n",
       "      <td>15.6</td>\n",
       "      <td>8</td>\n",
       "      <td>1.86</td>\n",
       "      <td>575.00</td>\n",
       "      <td>256</td>\n",
       "      <td>0</td>\n",
       "      <td>0</td>\n",
       "      <td>0</td>\n",
       "      <td>0</td>\n",
       "      <td>...</td>\n",
       "      <td>True</td>\n",
       "      <td>False</td>\n",
       "      <td>False</td>\n",
       "      <td>False</td>\n",
       "      <td>False</td>\n",
       "      <td>True</td>\n",
       "      <td>False</td>\n",
       "      <td>False</td>\n",
       "      <td>False</td>\n",
       "      <td>False</td>\n",
       "    </tr>\n",
       "    <tr>\n",
       "      <th>3</th>\n",
       "      <td>Apple</td>\n",
       "      <td>15.4</td>\n",
       "      <td>16</td>\n",
       "      <td>1.83</td>\n",
       "      <td>2537.45</td>\n",
       "      <td>512</td>\n",
       "      <td>0</td>\n",
       "      <td>0</td>\n",
       "      <td>0</td>\n",
       "      <td>0</td>\n",
       "      <td>...</td>\n",
       "      <td>False</td>\n",
       "      <td>False</td>\n",
       "      <td>False</td>\n",
       "      <td>False</td>\n",
       "      <td>False</td>\n",
       "      <td>False</td>\n",
       "      <td>False</td>\n",
       "      <td>False</td>\n",
       "      <td>False</td>\n",
       "      <td>True</td>\n",
       "    </tr>\n",
       "    <tr>\n",
       "      <th>4</th>\n",
       "      <td>Apple</td>\n",
       "      <td>13.3</td>\n",
       "      <td>8</td>\n",
       "      <td>1.37</td>\n",
       "      <td>1803.60</td>\n",
       "      <td>256</td>\n",
       "      <td>0</td>\n",
       "      <td>0</td>\n",
       "      <td>0</td>\n",
       "      <td>0</td>\n",
       "      <td>...</td>\n",
       "      <td>True</td>\n",
       "      <td>False</td>\n",
       "      <td>False</td>\n",
       "      <td>False</td>\n",
       "      <td>False</td>\n",
       "      <td>False</td>\n",
       "      <td>False</td>\n",
       "      <td>False</td>\n",
       "      <td>False</td>\n",
       "      <td>True</td>\n",
       "    </tr>\n",
       "  </tbody>\n",
       "</table>\n",
       "<p>5 rows × 30 columns</p>\n",
       "</div>"
      ],
      "text/plain": [
       "  Company  Inches  Ram  Weight  Price_euros  SSD  HDD  Hybrid  Flash_Storage  \\\n",
       "0   Apple    13.3    8    1.37      1339.69  128    0       0              0   \n",
       "1   Apple    13.3    8    1.34       898.94    0    0       0            128   \n",
       "2      HP    15.6    8    1.86       575.00  256    0       0              0   \n",
       "3   Apple    15.4   16    1.83      2537.45  512    0       0              0   \n",
       "4   Apple    13.3    8    1.37      1803.60  256    0       0              0   \n",
       "\n",
       "   Touchscreen  ...  Gpu_brand_Intel  Gpu_brand_Nvidia  OpSys_Chrome OS  \\\n",
       "0            0  ...             True             False            False   \n",
       "1            0  ...             True             False            False   \n",
       "2            0  ...             True             False            False   \n",
       "3            0  ...            False             False            False   \n",
       "4            0  ...             True             False            False   \n",
       "\n",
       "   OpSys_Linux  OpSys_Mac OS X  OpSys_No OS  OpSys_Windows 10  \\\n",
       "0        False           False        False             False   \n",
       "1        False           False        False             False   \n",
       "2        False           False         True             False   \n",
       "3        False           False        False             False   \n",
       "4        False           False        False             False   \n",
       "\n",
       "   OpSys_Windows 10 S  OpSys_Windows 7  OpSys_macOS  \n",
       "0               False            False         True  \n",
       "1               False            False         True  \n",
       "2               False            False        False  \n",
       "3               False            False         True  \n",
       "4               False            False         True  \n",
       "\n",
       "[5 rows x 30 columns]"
      ]
     },
     "metadata": {},
     "output_type": "display_data"
    },
    {
     "name": "stdout",
     "output_type": "stream",
     "text": [
      "\n",
      "Missing values per column:\n",
      " Company                 0\n",
      "Inches                  0\n",
      "Ram                     0\n",
      "Weight                  0\n",
      "Price_euros             0\n",
      "SSD                     0\n",
      "HDD                     0\n",
      "Hybrid                  0\n",
      "Flash_Storage           0\n",
      "Touchscreen             0\n",
      "X_res                   0\n",
      "Y_res                   0\n",
      "TypeName_Gaming         0\n",
      "TypeName_Netbook        0\n",
      "TypeName_Notebook       0\n",
      "TypeName_Ultrabook      0\n",
      "TypeName_Workstation    0\n",
      "Cpu_brand_Intel         0\n",
      "Cpu_brand_Samsung       0\n",
      "Gpu_brand_ARM           0\n",
      "Gpu_brand_Intel         0\n",
      "Gpu_brand_Nvidia        0\n",
      "OpSys_Chrome OS         0\n",
      "OpSys_Linux             0\n",
      "OpSys_Mac OS X          0\n",
      "OpSys_No OS             0\n",
      "OpSys_Windows 10        0\n",
      "OpSys_Windows 10 S      0\n",
      "OpSys_Windows 7         0\n",
      "OpSys_macOS             0\n",
      "dtype: int64\n"
     ]
    }
   ],
   "source": [
    "data = pd.read_csv(\"../data/processed/laptops_clean.csv\")\n",
    "print(\"Shape:\", data.shape)\n",
    "display(data.head())\n",
    "print(\"\\nMissing values per column:\\n\", data.isnull().sum())"
   ]
  },
  {
   "cell_type": "markdown",
   "id": "2b3120ee",
   "metadata": {},
   "source": [
    "### Step 2 - Definition\n",
    "- Define features (X) and target (y).\n",
    "- Separate predictors and target variable."
   ]
  },
  {
   "cell_type": "code",
   "execution_count": 4,
   "id": "65e2d2c7",
   "metadata": {},
   "outputs": [
    {
     "name": "stdout",
     "output_type": "stream",
     "text": [
      "X shape: (1303, 29)\n",
      "y shape: (1303,)\n"
     ]
    }
   ],
   "source": [
    "if \"Price_euros\" not in data.columns:\n",
    "    raise KeyError(\"Target column 'Price_euros' not found in dataset.\")\n",
    "\n",
    "X = data.drop(\"Price_euros\", axis=1)\n",
    "y = data[\"Price_euros\"]\n",
    "\n",
    "print(\"X shape:\", X.shape)\n",
    "print(\"y shape:\", y.shape)"
   ]
  },
  {
   "cell_type": "markdown",
   "id": "053c7e30",
   "metadata": {},
   "source": [
    "### Step 3 — Train / test split\n",
    "- Reserve 20% for test. \n",
    "- Keep random_state for reproducibility."
   ]
  },
  {
   "cell_type": "code",
   "execution_count": 5,
   "id": "9a61ff7b",
   "metadata": {},
   "outputs": [
    {
     "name": "stdout",
     "output_type": "stream",
     "text": [
      "X_train: (1042, 29) X_test: (261, 29)\n"
     ]
    }
   ],
   "source": [
    "X_train, X_test, y_train, y_test = train_test_split(X, y,\n",
    "                                                    test_size=0.2,\n",
    "                                                    random_state=RANDOM_STATE)\n",
    "print(\"X_train:\", X_train.shape,\n",
    "      \"X_test:\", X_test.shape)"
   ]
  },
  {
   "cell_type": "markdown",
   "id": "552dbcc5",
   "metadata": {},
   "source": [
    "### Step 4 — (Optional) Scale numeric features\n",
    "- Linear models benefit from scaling; tree-based models do not require it. \n",
    "- We'll scale and save the scaler so we can use the same transforms at inference."
   ]
  },
  {
   "cell_type": "code",
   "execution_count": 6,
   "id": "356311d8",
   "metadata": {},
   "outputs": [
    {
     "name": "stdout",
     "output_type": "stream",
     "text": [
      "Numeric cols to scale: ['Inches', 'Ram', 'Weight', 'SSD', 'HDD', 'Hybrid', 'Flash_Storage', 'Touchscreen', 'X_res', 'Y_res']\n",
      "Scaler saved to ../models/scaler.pkl\n"
     ]
    }
   ],
   "source": [
    "# (optional but recommended for linear models)\n",
    "\n",
    "# Detect numeric columns (should already be numeric after cleaning)\n",
    "numeric_cols = X_train.select_dtypes(include=[np.number]).columns.tolist()\n",
    "print(\"Numeric cols to scale:\", numeric_cols)\n",
    "\n",
    "scaler = StandardScaler()\n",
    "X_train_scaled = X_train.copy()\n",
    "X_test_scaled = X_test.copy()\n",
    "\n",
    "# Fit scaler only on training numeric columns\n",
    "X_train_scaled[numeric_cols] = scaler.fit_transform(X_train[numeric_cols])\n",
    "X_test_scaled[numeric_cols] = scaler.transform(X_test[numeric_cols])\n",
    "\n",
    "# Save scaler for later (inference)\n",
    "joblib.dump(scaler, \"../models/scaler.pkl\")\n",
    "print(\"Scaler saved to ../models/scaler.pkl\")"
   ]
  },
  {
   "cell_type": "markdown",
   "id": "d9d31c03",
   "metadata": {},
   "source": [
    "### Step 5 — Baseline model: Linear Regression\n",
    "- Train a linear regression on the scaled features.\n",
    "\n",
    "⚠️ Fix: Encode categorical features before training  \n",
    "(Linear Regression cannot handle string columns like \"Dell\", \"Windows 10\", etc.  \n",
    "We’ll use OneHotEncoding to turn them into numeric dummy variables.)"
   ]
  },
  {
   "cell_type": "code",
   "execution_count": 7,
   "id": "966660ac",
   "metadata": {},
   "outputs": [
    {
     "name": "stdout",
     "output_type": "stream",
     "text": [
      "Categorical columns: ['Company']\n",
      "X_train_encoded shape: (1042, 46)\n",
      "X_test_encoded shape: (261, 46)\n"
     ]
    }
   ],
   "source": [
    "# Detect categorical columns\n",
    "cat_cols = X_train.select_dtypes(include=[\"object\"]).columns.tolist()\n",
    "print(\"Categorical columns:\", cat_cols)\n",
    "\n",
    "# OneHotEncode categorical columns\n",
    "X_train_encoded = pd.get_dummies(X_train, columns=cat_cols, drop_first=True)\n",
    "X_test_encoded = pd.get_dummies(X_test, columns=cat_cols, drop_first=True)\n",
    "\n",
    "# Align columns (train/test must have same columns after encoding)\n",
    "X_train_encoded, X_test_encoded = X_train_encoded.align(X_test_encoded, join=\"left\", axis=1, fill_value=0)\n",
    "\n",
    "print(\"X_train_encoded shape:\", X_train_encoded.shape)\n",
    "print(\"X_test_encoded shape:\", X_test_encoded.shape)\n",
    "\n",
    "# Scale numeric columns for linear regression\n",
    "scaler = StandardScaler()\n",
    "X_train_scaled = X_train_encoded.copy()\n",
    "X_test_scaled = X_test_encoded.copy()\n",
    "\n",
    "numeric_cols = X_train_encoded.select_dtypes(include=[np.number]).columns.tolist()\n",
    "X_train_scaled[numeric_cols] = scaler.fit_transform(X_train_encoded[numeric_cols])\n",
    "X_test_scaled[numeric_cols] = scaler.transform(X_test_encoded[numeric_cols])"
   ]
  },
  {
   "cell_type": "code",
   "execution_count": 8,
   "id": "0e5394a8",
   "metadata": {},
   "outputs": [],
   "source": [
    "# Step 5 - Train Linear Regression (on scaled data)\n",
    "lin_reg = LinearRegression()\n",
    "lin_reg.fit(X_train_scaled, y_train)\n",
    "\n",
    "y_pred_lr = lin_reg.predict(X_test_scaled)"
   ]
  },
  {
   "cell_type": "markdown",
   "id": "62868be9",
   "metadata": {},
   "source": [
    "### Step 6 — Evaluate Linear Regression\n",
    "(Print MAE, RMSE and R²)"
   ]
  },
  {
   "cell_type": "code",
   "execution_count": 9,
   "id": "455cbb17",
   "metadata": {},
   "outputs": [
    {
     "name": "stdout",
     "output_type": "stream",
     "text": [
      "Linear Regression Performance:\n",
      "MAE: 216.53\n",
      "RMSE: 304.02\n",
      "R²: 0.8120\n"
     ]
    }
   ],
   "source": [
    "# Step 6 - Evaluate linear regression\n",
    "mae_lr = mean_absolute_error(y_test, y_pred_lr)\n",
    "rmse_lr = np.sqrt(mean_squared_error(y_test, y_pred_lr))   # <- replace squared=False with np.sqrt(...)\n",
    "r2_lr = r2_score(y_test, y_pred_lr)\n",
    "\n",
    "print(\"Linear Regression Performance:\")\n",
    "print(f\"MAE: {mae_lr:.2f}\")\n",
    "print(f\"RMSE: {rmse_lr:.2f}\")\n",
    "print(f\"R²: {r2_lr:.4f}\")"
   ]
  },
  {
   "cell_type": "markdown",
   "id": "1802e1b2",
   "metadata": {},
   "source": [
    "### Step 7 — Stronger model: Random Forest Regressor\n",
    "- Train a Random Forest. \n",
    "- Trees don't require scaling; we'll use the unscaled features."
   ]
  },
  {
   "cell_type": "code",
   "execution_count": 10,
   "id": "0566286b",
   "metadata": {},
   "outputs": [],
   "source": [
    "# Step 7 - Train Random Forest (use unscaled data)\n",
    "rf = RandomForestRegressor(n_estimators=100, random_state=RANDOM_STATE, n_jobs=-1)\n",
    "rf.fit(X_train_encoded, y_train)\n",
    "\n",
    "y_pred_rf = rf.predict(X_test_encoded)"
   ]
  },
  {
   "cell_type": "markdown",
   "id": "8a1d6b8e",
   "metadata": {},
   "source": [
    "### Step 8 — Evaluate Random Forest\n",
    "- Compare metrics with linear model."
   ]
  },
  {
   "cell_type": "code",
   "execution_count": 11,
   "id": "5d4a0941",
   "metadata": {},
   "outputs": [
    {
     "name": "stdout",
     "output_type": "stream",
     "text": [
      "Random Forest Performance:\n",
      "MAE: 176.32\n",
      "RMSE: 264.62\n",
      "R²: 0.8576\n"
     ]
    }
   ],
   "source": [
    "# Step 8 - Evaluate Random Forest\n",
    "mae_rf  = mean_absolute_error(y_test, y_pred_rf)\n",
    "rmse_rf = np.sqrt(mean_squared_error(y_test, y_pred_rf))\n",
    "r2_rf   = r2_score(y_test, y_pred_rf)\n",
    "\n",
    "print(\"Random Forest Performance:\")\n",
    "print(f\"MAE: {mae_rf:.2f}\")\n",
    "print(f\"RMSE: {rmse_rf:.2f}\")\n",
    "print(f\"R²: {r2_rf:.4f}\")"
   ]
  },
  {
   "cell_type": "markdown",
   "id": "f7fac626",
   "metadata": {},
   "source": [
    "### Step 9: Compare Models\n",
    "- Collect metrics into a DataFrame for easy comparison."
   ]
  },
  {
   "cell_type": "code",
   "execution_count": 12,
   "id": "8029953e",
   "metadata": {},
   "outputs": [
    {
     "data": {
      "text/html": [
       "<div>\n",
       "<style scoped>\n",
       "    .dataframe tbody tr th:only-of-type {\n",
       "        vertical-align: middle;\n",
       "    }\n",
       "\n",
       "    .dataframe tbody tr th {\n",
       "        vertical-align: top;\n",
       "    }\n",
       "\n",
       "    .dataframe thead th {\n",
       "        text-align: right;\n",
       "    }\n",
       "</style>\n",
       "<table border=\"1\" class=\"dataframe\">\n",
       "  <thead>\n",
       "    <tr style=\"text-align: right;\">\n",
       "      <th></th>\n",
       "      <th>model</th>\n",
       "      <th>MAE</th>\n",
       "      <th>RMSE</th>\n",
       "      <th>R²</th>\n",
       "    </tr>\n",
       "  </thead>\n",
       "  <tbody>\n",
       "    <tr>\n",
       "      <th>1</th>\n",
       "      <td>RandomForest</td>\n",
       "      <td>176.320752</td>\n",
       "      <td>264.616305</td>\n",
       "      <td>0.857611</td>\n",
       "    </tr>\n",
       "    <tr>\n",
       "      <th>0</th>\n",
       "      <td>LinearRegression</td>\n",
       "      <td>216.530952</td>\n",
       "      <td>304.022734</td>\n",
       "      <td>0.812044</td>\n",
       "    </tr>\n",
       "  </tbody>\n",
       "</table>\n",
       "</div>"
      ],
      "text/plain": [
       "              model         MAE        RMSE        R²\n",
       "1      RandomForest  176.320752  264.616305  0.857611\n",
       "0  LinearRegression  216.530952  304.022734  0.812044"
      ]
     },
     "metadata": {},
     "output_type": "display_data"
    },
    {
     "name": "stdout",
     "output_type": "stream",
     "text": [
      "Saved metrics to ../reports/model_results_summary.csv\n"
     ]
    }
   ],
   "source": [
    "results = pd.DataFrame({\n",
    "    \"model\": [\"LinearRegression\", \"RandomForest\"],\n",
    "    \"MAE\": [mae_lr, mae_rf],\n",
    "    \"RMSE\": [rmse_lr, rmse_rf],\n",
    "    \"R²\": [r2_lr, r2_rf]\n",
    "})\n",
    "display(results.sort_values(\"R²\", ascending=False))\n",
    "# Save metrics\n",
    "results.to_csv(\"../reports/model_results_summary.csv\", index=False)\n",
    "print(\"Saved metrics to ../reports/model_results_summary.csv\")"
   ]
  },
  {
   "cell_type": "markdown",
   "id": "2c62b6e3",
   "metadata": {},
   "source": [
    "### Step 10 — Visualize predictions vs actual (best model)\n",
    "- Plot actual vs predicted and a 45° line to see fit."
   ]
  },
  {
   "cell_type": "code",
   "execution_count": 13,
   "id": "c478d932",
   "metadata": {},
   "outputs": [
    {
     "data": {
      "image/png": "[encoded data removed]",
      "text/plain": [
       "<Figure size 800x800 with 1 Axes>"
      ]
     },
     "metadata": {},
     "output_type": "display_data"
    },
    {
     "name": "stdout",
     "output_type": "stream",
     "text": [
      "Plot saved to ../reports/figures/actual_vs_predicted_best_model.png\n"
     ]
    }
   ],
   "source": [
    "# Step 10 - Choose best model and visualize\n",
    "best_model = rf if r2_rf >= r2_lr else lin_reg\n",
    "best_pred = y_pred_rf if best_model is rf else y_pred_lr\n",
    "\n",
    "plt.figure(figsize=(8,8))\n",
    "plt.scatter(y_test, best_pred, alpha=0.5, s=20)\n",
    "lims = [min(y_test.min(), best_pred.min()), max(y_test.max(), best_pred.max())]\n",
    "plt.plot(lims, lims, 'r--', linewidth=1)  # identity line\n",
    "plt.xlabel(\"Actual Price (euros)\")\n",
    "plt.ylabel(\"Predicted Price (euros)\")\n",
    "plt.title(\"Actual vs Predicted — Best Model\")\n",
    "plt.xlim(lims)\n",
    "plt.ylim(lims)\n",
    "plt.grid(True)\n",
    "plt.savefig(\"../reports/figures/actual_vs_predicted_best_model.png\", dpi=150)\n",
    "plt.show()\n",
    "print(\"Plot saved to ../reports/figures/actual_vs_predicted_best_model.png\")"
   ]
  },
  {
   "cell_type": "markdown",
   "id": "6d221319",
   "metadata": {},
   "source": [
    "### Initial Model Training Results\n",
    "\n",
    "We compared two models: Linear Regression and Random Forest.\n",
    "\n",
    "- **Linear Regression** achieved an R² of 0.812, RMSE of €304.02, and MAE of €216.53.\n",
    "- **Random Forest** achieved an R² of 0.858, RMSE of €264.62, and MAE of €176.32.\n",
    "\n",
    "**Conclusion:** Random Forest performs better overall, explaining more of the variance in laptop prices and reducing prediction error by around €40 on average compared to Linear Regression. We selected Random Forest as the final model and saved it for deployment.\n"
   ]
  },
  {
   "cell_type": "markdown",
   "id": "8706f411",
   "metadata": {},
   "source": [
    "### Step 11 — Save the best model for deployment\n",
    "- Simply save the model file to `../models` for use in Streamlit or inference."
   ]
  },
  {
   "cell_type": "code",
   "execution_count": 15,
   "id": "dbd69f50",
   "metadata": {},
   "outputs": [
    {
     "name": "stdout",
     "output_type": "stream",
     "text": [
      "Saved best model to ../models/laptop_price_model.pkl\n"
     ]
    }
   ],
   "source": [
    "best_model_path = \"../models/laptop_price_model.pkl\"\n",
    "joblib.dump(best_model, best_model_path)\n",
    "print(f\"Saved best model to {best_model_path}\")\n",
    "# If you trained linear regression and plan to use the scaler, scaler already saved earlier."
   ]
  },
  {
   "cell_type": "markdown",
   "id": "814ace61",
   "metadata": {},
   "source": [
    "### Step 12 — Next steps (notes)\n",
    "- If Random Forest is best, consider GridSearchCV / RandomizedSearchCV to tune hyperparameters.\n",
    "- If deployment is required, create a small API or Streamlit app that loads `../models/laptop_price_model.pkl` and `../models/scaler.pkl`.\n",
    "- Save feature list and preprocessing steps (so you apply exactly the same transforms at inference)."
   ]
  },
  {
   "cell_type": "code",
   "execution_count": 16,
   "id": "b6fa51a0",
   "metadata": {},
   "outputs": [
    {
     "name": "stdout",
     "output_type": "stream",
     "text": [
      "Saved feature names to ../models/feature_names.pkl\n"
     ]
    }
   ],
   "source": [
    "# Step 12 - Save feature list\n",
    "feature_list_path = \"../models/feature_names.pkl\"\n",
    "joblib.dump(X_train_encoded.columns.tolist(), feature_list_path)\n",
    "print(f\"Saved feature names to {feature_list_path}\")\n"
   ]
  }
 ],
 "metadata": {
  "kernelspec": {
   "display_name": "Python 3",
   "language": "python",
   "name": "python3"
  },
  "language_info": {
   "codemirror_mode": {
    "name": "ipython",
    "version": 3
   },
   "file_extension": ".py",
   "mimetype": "text/x-python",
   "name": "python",
   "nbconvert_exporter": "python",
   "pygments_lexer": "ipython3",
   "version": "3.12.2"
  }
 },
 "nbformat": 4,
 "nbformat_minor": 5
}
