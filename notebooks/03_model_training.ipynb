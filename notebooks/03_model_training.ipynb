{
 "cells": [
  {
   "cell_type": "markdown",
   "id": "c8abe6a5",
   "metadata": {},
   "source": [
    "# Laptop Price Prediction — Model Training\n",
    "This notebook trains and evaluates baseline models to predict `Price_euros`.\n",
    "We will:\n",
    "- Load the cleaned dataset.\n",
    "- Split into train/test sets.\n",
    "- Optionally scale numeric features.\n",
    "- Train a baseline Linear Regression.\n",
    "- Train a Random Forest regressor.\n",
    "- Evaluate with MAE, RMSE and R².\n",
    "- Visualize predictions and save the best model (for later Streamlit use)."
   ]
  },
  {
   "cell_type": "markdown",
   "id": "d6489800",
   "metadata": {},
   "source": [
    "### Step 0 - Imports Necessary Libraries\n",
    "Import necessary libraries (Imports used throughout the notebook)."
   ]
  },
  {
   "cell_type": "code",
   "execution_count": 1,
   "id": "93f2c020",
   "metadata": {},
   "outputs": [],
   "source": [
    "# Step 0 - imports\n",
    "import os\n",
    "import joblib\n",
    "import numpy as np\n",
    "import pandas as pd\n",
    "import seaborn as sns\n",
    "import matplotlib.pyplot as plt\n",
    "\n",
    "from sklearn.preprocessing import StandardScaler\n",
    "from sklearn.linear_model import LinearRegression\n",
    "from sklearn.ensemble import RandomForestRegressor\n",
    "from sklearn.model_selection import train_test_split as split\n",
    "from sklearn.metrics import mean_absolute_error, mean_squared_error, r2_score\n",
    "\n",
    "sns.set(style=\"whitegrid\")\n",
    "RANDOM_STATE = 1  \n",
    "# We will use random_state=1 and test_size=0.2 (20%) as our group's values.\n",
    "\n",
    "# Ensure output folders exist\n",
    "os.makedirs(\"../models\", exist_ok=True)\n",
    "os.makedirs(\"../reports/figures\", exist_ok=True)"
   ]
  },
  {
   "cell_type": "markdown",
   "id": "bcbb7176",
   "metadata": {},
   "source": [
    "### Step 1 - Load Dataset\n",
    "Load the processed CSV saved from data cleaning."
   ]
  },
  {
   "cell_type": "code",
   "execution_count": 2,
   "id": "00fada4a",
   "metadata": {},
   "outputs": [
    {
     "name": "stdout",
     "output_type": "stream",
     "text": [
      "Shape: (1303, 17)\n"
     ]
    },
    {
     "data": {
      "text/html": [
       "<div>\n",
       "<style scoped>\n",
       "    .dataframe tbody tr th:only-of-type {\n",
       "        vertical-align: middle;\n",
       "    }\n",
       "\n",
       "    .dataframe tbody tr th {\n",
       "        vertical-align: top;\n",
       "    }\n",
       "\n",
       "    .dataframe thead th {\n",
       "        text-align: right;\n",
       "    }\n",
       "</style>\n",
       "<table border=\"1\" class=\"dataframe\">\n",
       "  <thead>\n",
       "    <tr style=\"text-align: right;\">\n",
       "      <th></th>\n",
       "      <th>Company</th>\n",
       "      <th>TypeName</th>\n",
       "      <th>Inches</th>\n",
       "      <th>Ram</th>\n",
       "      <th>Gpu</th>\n",
       "      <th>OpSys</th>\n",
       "      <th>Weight</th>\n",
       "      <th>Price_euros</th>\n",
       "      <th>SSD</th>\n",
       "      <th>HDD</th>\n",
       "      <th>Hybrid</th>\n",
       "      <th>Flash_Storage</th>\n",
       "      <th>Touchscreen</th>\n",
       "      <th>X_resolution</th>\n",
       "      <th>Y_resolution</th>\n",
       "      <th>Cpu_brand</th>\n",
       "      <th>Cpu_speed</th>\n",
       "    </tr>\n",
       "  </thead>\n",
       "  <tbody>\n",
       "    <tr>\n",
       "      <th>0</th>\n",
       "      <td>Apple</td>\n",
       "      <td>Ultrabook</td>\n",
       "      <td>13.3</td>\n",
       "      <td>8</td>\n",
       "      <td>Intel Iris Plus Graphics 640</td>\n",
       "      <td>macOS</td>\n",
       "      <td>1.37</td>\n",
       "      <td>1339.69</td>\n",
       "      <td>128</td>\n",
       "      <td>0</td>\n",
       "      <td>0</td>\n",
       "      <td>0</td>\n",
       "      <td>0</td>\n",
       "      <td>2560</td>\n",
       "      <td>1600</td>\n",
       "      <td>Intel Core i5</td>\n",
       "      <td>2.3</td>\n",
       "    </tr>\n",
       "    <tr>\n",
       "      <th>1</th>\n",
       "      <td>Apple</td>\n",
       "      <td>Ultrabook</td>\n",
       "      <td>13.3</td>\n",
       "      <td>8</td>\n",
       "      <td>Intel HD Graphics 6000</td>\n",
       "      <td>macOS</td>\n",
       "      <td>1.34</td>\n",
       "      <td>898.94</td>\n",
       "      <td>0</td>\n",
       "      <td>0</td>\n",
       "      <td>0</td>\n",
       "      <td>128</td>\n",
       "      <td>0</td>\n",
       "      <td>1440</td>\n",
       "      <td>900</td>\n",
       "      <td>Intel Core i5</td>\n",
       "      <td>1.8</td>\n",
       "    </tr>\n",
       "    <tr>\n",
       "      <th>2</th>\n",
       "      <td>HP</td>\n",
       "      <td>Notebook</td>\n",
       "      <td>15.6</td>\n",
       "      <td>8</td>\n",
       "      <td>Intel HD Graphics 620</td>\n",
       "      <td>No OS</td>\n",
       "      <td>1.86</td>\n",
       "      <td>575.00</td>\n",
       "      <td>256</td>\n",
       "      <td>0</td>\n",
       "      <td>0</td>\n",
       "      <td>0</td>\n",
       "      <td>0</td>\n",
       "      <td>1920</td>\n",
       "      <td>1080</td>\n",
       "      <td>Intel Core i5 7200U</td>\n",
       "      <td>2.5</td>\n",
       "    </tr>\n",
       "    <tr>\n",
       "      <th>3</th>\n",
       "      <td>Apple</td>\n",
       "      <td>Ultrabook</td>\n",
       "      <td>15.4</td>\n",
       "      <td>16</td>\n",
       "      <td>AMD Radeon Pro 455</td>\n",
       "      <td>macOS</td>\n",
       "      <td>1.83</td>\n",
       "      <td>2537.45</td>\n",
       "      <td>512</td>\n",
       "      <td>0</td>\n",
       "      <td>0</td>\n",
       "      <td>0</td>\n",
       "      <td>0</td>\n",
       "      <td>2880</td>\n",
       "      <td>1800</td>\n",
       "      <td>Intel Core i7</td>\n",
       "      <td>2.7</td>\n",
       "    </tr>\n",
       "    <tr>\n",
       "      <th>4</th>\n",
       "      <td>Apple</td>\n",
       "      <td>Ultrabook</td>\n",
       "      <td>13.3</td>\n",
       "      <td>8</td>\n",
       "      <td>Intel Iris Plus Graphics 650</td>\n",
       "      <td>macOS</td>\n",
       "      <td>1.37</td>\n",
       "      <td>1803.60</td>\n",
       "      <td>256</td>\n",
       "      <td>0</td>\n",
       "      <td>0</td>\n",
       "      <td>0</td>\n",
       "      <td>0</td>\n",
       "      <td>2560</td>\n",
       "      <td>1600</td>\n",
       "      <td>Intel Core i5</td>\n",
       "      <td>3.1</td>\n",
       "    </tr>\n",
       "  </tbody>\n",
       "</table>\n",
       "</div>"
      ],
      "text/plain": [
       "  Company   TypeName  Inches  Ram                           Gpu  OpSys  \\\n",
       "0   Apple  Ultrabook    13.3    8  Intel Iris Plus Graphics 640  macOS   \n",
       "1   Apple  Ultrabook    13.3    8        Intel HD Graphics 6000  macOS   \n",
       "2      HP   Notebook    15.6    8         Intel HD Graphics 620  No OS   \n",
       "3   Apple  Ultrabook    15.4   16            AMD Radeon Pro 455  macOS   \n",
       "4   Apple  Ultrabook    13.3    8  Intel Iris Plus Graphics 650  macOS   \n",
       "\n",
       "   Weight  Price_euros  SSD  HDD  Hybrid  Flash_Storage  Touchscreen  \\\n",
       "0    1.37      1339.69  128    0       0              0            0   \n",
       "1    1.34       898.94    0    0       0            128            0   \n",
       "2    1.86       575.00  256    0       0              0            0   \n",
       "3    1.83      2537.45  512    0       0              0            0   \n",
       "4    1.37      1803.60  256    0       0              0            0   \n",
       "\n",
       "   X_resolution  Y_resolution            Cpu_brand  Cpu_speed  \n",
       "0          2560          1600        Intel Core i5        2.3  \n",
       "1          1440           900        Intel Core i5        1.8  \n",
       "2          1920          1080  Intel Core i5 7200U        2.5  \n",
       "3          2880          1800        Intel Core i7        2.7  \n",
       "4          2560          1600        Intel Core i5        3.1  "
      ]
     },
     "metadata": {},
     "output_type": "display_data"
    },
    {
     "name": "stdout",
     "output_type": "stream",
     "text": [
      "\n",
      "Missing values per column:\n",
      " Company          0\n",
      "TypeName         0\n",
      "Inches           0\n",
      "Ram              0\n",
      "Gpu              0\n",
      "OpSys            0\n",
      "Weight           0\n",
      "Price_euros      0\n",
      "SSD              0\n",
      "HDD              0\n",
      "Hybrid           0\n",
      "Flash_Storage    0\n",
      "Touchscreen      0\n",
      "X_resolution     0\n",
      "Y_resolution     0\n",
      "Cpu_brand        0\n",
      "Cpu_speed        0\n",
      "dtype: int64\n"
     ]
    }
   ],
   "source": [
    "data = pd.read_csv(\"../data/processed/laptops_cleanned.csv\")\n",
    "print(\"Shape:\", data.shape)\n",
    "display(data.head())\n",
    "print(\"\\nMissing values per column:\\n\", data.isnull().sum())"
   ]
  },
  {
   "cell_type": "markdown",
   "id": "2b3120ee",
   "metadata": {},
   "source": [
    "### Step 2 - Definition\n",
    "- Define features (X) and target (y).\n",
    "- Separate predictors and target variable."
   ]
  },
  {
   "cell_type": "code",
   "execution_count": 3,
   "id": "65e2d2c7",
   "metadata": {},
   "outputs": [
    {
     "name": "stdout",
     "output_type": "stream",
     "text": [
      "X shape: (1303, 16)\n",
      "y shape: (1303,)\n"
     ]
    }
   ],
   "source": [
    "if \"Price_euros\" not in data.columns:\n",
    "    raise KeyError(\"Target column 'Price_euros' not found in dataset.\")\n",
    "\n",
    "X = data.drop(\"Price_euros\", axis=1)\n",
    "y = data[\"Price_euros\"]\n",
    "\n",
    "print(\"X shape:\", X.shape)\n",
    "print(\"y shape:\", y.shape)"
   ]
  },
  {
   "cell_type": "markdown",
   "id": "053c7e30",
   "metadata": {},
   "source": [
    "### Step 3 — Train / test split\n",
    "- Reserve 20% for test. \n",
    "- Keep random_state for reproducibility."
   ]
  },
  {
   "cell_type": "code",
   "execution_count": 4,
   "id": "9a61ff7b",
   "metadata": {},
   "outputs": [
    {
     "name": "stdout",
     "output_type": "stream",
     "text": [
      "X_train: (1042, 16) \n",
      "X_test: (261, 16)\n"
     ]
    }
   ],
   "source": [
    "X_train, X_test, y_train, y_test = split(X, y,test_size=0.2, random_state=RANDOM_STATE)\n",
    "print(\"X_train:\", X_train.shape, '\\n' \"X_test:\", X_test.shape)"
   ]
  },
  {
   "cell_type": "markdown",
   "id": "552dbcc5",
   "metadata": {},
   "source": [
    "### Step 4 — (Optional) Scale numeric features\n",
    "- Linear models benefit from scaling; tree-based models do not require it. \n",
    "- We'll scale and save the scaler so we can use the same transforms at inference.\n",
    "\n",
    "- Why this matters :\n",
    "    - Many ML algorithms assume features are on a similar scale.\n",
    "    - Avoids data leakage by fitting only on the training data."
   ]
  },
  {
   "cell_type": "code",
   "execution_count": 5,
   "id": "356311d8",
   "metadata": {},
   "outputs": [
    {
     "name": "stdout",
     "output_type": "stream",
     "text": [
      "Numeric cols to scale: ['Inches', 'Ram', 'Weight', 'SSD', 'HDD', 'Hybrid', 'Flash_Storage', 'Touchscreen', 'X_resolution', 'Y_resolution', 'Cpu_speed']\n",
      "Scaler saved to ../models/scaler.pkl\n"
     ]
    }
   ],
   "source": [
    "# (optional but recommended for linear models)\n",
    "\n",
    "# Detect numeric columns (should already be numeric after cleaning)\n",
    "numeric_cols = X_train.select_dtypes(include=[np.number]).columns.tolist()\n",
    "print(\"Numeric cols to scale:\", numeric_cols)\n",
    "\n",
    "scaler = StandardScaler()\n",
    "X_train_scaled = X_train.copy()\n",
    "X_test_scaled = X_test.copy()\n",
    "\n",
    "# Fit scaler only on training numeric columns\n",
    "X_train_scaled[numeric_cols] = scaler.fit_transform(X_train[numeric_cols])\n",
    "X_test_scaled[numeric_cols] = scaler.transform(X_test[numeric_cols])\n",
    "\n",
    "# Save scaler for later (inference)\n",
    "joblib.dump(scaler, \"../models/scaler.pkl\")\n",
    "print(\"Scaler saved to ../models/scaler.pkl\")"
   ]
  },
  {
   "cell_type": "markdown",
   "id": "d9d31c03",
   "metadata": {},
   "source": [
    "### Step 5 — Baseline model: Linear Regression\n",
    "- Train a linear regression on the scaled features.\n",
    "\n",
    "⚠️ Fix: Encode categorical features before training  \n",
    "(Linear Regression cannot handle string columns like \"Dell\", \"Windows 10\", etc.  \n",
    "We’ll use OneHotEncoding to turn them into numeric dummy variables.)"
   ]
  },
  {
   "cell_type": "code",
   "execution_count": 6,
   "id": "966660ac",
   "metadata": {},
   "outputs": [
    {
     "name": "stdout",
     "output_type": "stream",
     "text": [
      "Categorical columns: ['Company', 'TypeName', 'Gpu', 'OpSys', 'Cpu_brand']\n",
      "X_train_encoded shape: (1042, 218)\n",
      "X_test_encoded shape: (261, 218)\n"
     ]
    }
   ],
   "source": [
    "# Detect categorical columns\n",
    "cat_cols = X_train.select_dtypes(include=[\"object\"]).columns.tolist()\n",
    "print(\"Categorical columns:\", cat_cols)\n",
    "\n",
    "# OneHotEncode categorical columns\n",
    "X_train_encoded = pd.get_dummies(X_train, columns=cat_cols, drop_first=True)\n",
    "X_test_encoded = pd.get_dummies(X_test, columns=cat_cols, drop_first=True)\n",
    "\n",
    "# Align columns (train/test must have same columns after encoding)\n",
    "X_train_encoded, X_test_encoded = X_train_encoded.align(X_test_encoded, join=\"left\", axis=1, fill_value=0)\n",
    "\n",
    "print(\"X_train_encoded shape:\", X_train_encoded.shape)\n",
    "print(\"X_test_encoded shape:\", X_test_encoded.shape)\n",
    "\n",
    "# Scale numeric columns for linear regression\n",
    "scaler = StandardScaler()\n",
    "X_train_scaled = X_train_encoded.copy()\n",
    "X_test_scaled = X_test_encoded.copy()\n",
    "\n",
    "numeric_cols = X_train_encoded.select_dtypes(include=[np.number]).columns.tolist()\n",
    "X_train_scaled[numeric_cols] = scaler.fit_transform(X_train_encoded[numeric_cols])\n",
    "X_test_scaled[numeric_cols] = scaler.transform(X_test_encoded[numeric_cols])"
   ]
  },
  {
   "cell_type": "code",
   "execution_count": 7,
   "id": "0e5394a8",
   "metadata": {},
   "outputs": [
    {
     "name": "stdout",
     "output_type": "stream",
     "text": [
      "Model Coeffient: [-1.08708111e+01  1.30503579e+02 -5.98643778e+00  1.43293182e+02\n",
      "  2.42737078e+01  1.84938491e+01  3.31617558e+01 -2.12035126e+01\n",
      " -3.03931836e+00  7.47113679e+01  5.76631461e+01  1.93533094e+02\n",
      "  2.36825230e+01 -1.81830260e+02  9.53957206e+01 -5.43298348e+00\n",
      "  2.13630516e+02  1.31119441e+02 -6.39257124e+01  6.26387547e+02\n",
      "  1.12839663e+02  1.10196218e+02 -8.07315462e+01  1.79531257e+02\n",
      "  6.80359344e+02  2.00135252e+02  2.73127129e+02 -1.02676413e+02\n",
      "  1.84094991e+02 -3.54984447e+02 -1.55349934e+02 -2.26504883e+02\n",
      "  3.81317001e+01 -1.94218618e+02  2.35089517e+02  3.03520936e+02\n",
      "  1.44677209e+03 -1.80810360e+02 -2.78000772e+02 -2.81880050e+02\n",
      " -1.62007361e+02  1.40820260e+02  1.39926778e+02  4.37729678e+02\n",
      " -4.49613330e+01 -1.12980849e+02 -7.78799915e+01 -1.97324600e+02\n",
      " -2.37046427e+02 -1.97415780e+01 -3.01923956e+02 -3.01190316e+02\n",
      " -7.81657040e+01 -9.50006978e+01 -1.75838752e+02 -1.55777041e+02\n",
      " -5.96242223e+01 -1.76852626e+02 -1.87858595e+02 -9.07566131e+01\n",
      "  1.41402141e+02  7.07925645e+01  5.98208561e+02 -2.90048313e+02\n",
      " -3.37323154e+02 -3.89101087e+02 -4.25703283e+02 -3.13217503e+02\n",
      " -2.58591631e+02 -9.28044435e+01  1.84723164e+02 -1.29129266e+02\n",
      " -2.94892486e+02  5.92231637e+01 -1.81683092e+00 -1.20733024e+02\n",
      "  1.77250515e+02 -1.11872408e+00  1.75047886e+02 -9.81129690e+01\n",
      "  7.39006071e+01  9.87357166e+01  3.53920036e+02 -1.01613812e+02\n",
      "  6.70121923e+01 -6.51062714e+01 -1.94690026e+02 -1.50884207e+02\n",
      " -1.80977910e+02 -2.77421841e+02 -6.74737538e+01 -1.23593830e+02\n",
      " -5.72916555e+02 -1.43362650e+02 -1.51842303e+01 -6.60329885e+01\n",
      " -2.02493447e+01 -1.26151869e+02  4.00901062e+00  3.56172733e+02\n",
      "  9.19947852e+02  1.40730591e+03 -1.28854431e+02 -2.93057377e+02\n",
      " -6.46786585e+01 -1.16948017e+02 -1.18031164e+02 -1.74243672e+02\n",
      "  1.63513651e+02  4.73697113e+02  9.94672812e+02  6.95985434e+02\n",
      "  7.15219538e+01  1.90644234e+02  1.16135896e+03 -3.63324664e+01\n",
      " -6.13725387e+01  4.71465679e+02  5.45536642e+02  6.99391058e+02\n",
      "  1.47953567e+03  6.77613719e+02  4.54621002e+02  3.03103608e+02\n",
      "  3.42188419e+02  1.60613388e+03  8.71740377e+01  1.07235852e+01\n",
      "  1.12348717e+02 -7.65295020e+01  1.28635000e+02  6.64884443e+01\n",
      "  3.68163932e+02  8.11843768e+01  6.03360401e+01  1.81151374e+01\n",
      " -5.96242223e+01 -2.21527124e+02 -7.78799915e+01 -1.73089949e+00\n",
      " -3.04318344e+01 -6.73800803e+01 -1.24330782e+02 -1.87190268e+02\n",
      " -1.81420707e+02 -3.67955679e+01 -8.74843832e+00 -5.24990691e+00\n",
      " -1.07730942e+02 -8.28745013e+01  4.66616067e+01 -9.07566131e+01\n",
      "  3.01265050e+02  2.96943511e+02  3.28609108e+02  2.51162849e+02\n",
      "  3.18168172e+02  2.53451124e+02  1.42423928e+02  2.72058708e+02\n",
      "  7.48510148e+01  2.49475106e+02  2.57233440e+02  2.55534922e+02\n",
      "  2.91959063e+02  3.32455392e+02 -3.16316637e+02 -5.79413383e+02\n",
      "  5.98211802e+02  6.90034638e+02 -2.18347141e+02 -7.83063178e+01\n",
      "  2.13855327e+02 -1.05019271e+02 -2.04900100e+02  1.22674215e+02\n",
      "  1.08201910e+02 -4.12237845e+01  2.12061806e+01  3.72125459e+01\n",
      "  3.18266862e+02 -1.81683092e+00  3.04934853e+02  5.93414418e+02\n",
      "  3.03520936e+02  1.33185041e+02  3.75368372e+02  4.00721542e+02\n",
      "  3.56568577e+02 -4.63691507e+01  1.95246958e+02  9.50590404e+01\n",
      "  2.51473212e+02  5.77656457e+02  2.93928794e+02 -3.15353249e+02\n",
      "  6.17118031e+02  4.10737995e+02  2.62341152e+02  6.40509342e+02\n",
      "  2.58636514e+02  1.09873081e+02  6.09099261e+02  5.74090958e+02\n",
      "  4.74334013e+02  1.14310890e+03  6.41718414e+02  4.15211029e+02\n",
      "  2.68933533e+02  1.14161584e+02 -1.67655458e+02 -2.84119103e+02\n",
      "  2.76481852e+02  2.75802215e+02  3.09955721e+02  7.52346046e+02\n",
      "  1.47953567e+03  1.96707603e+03]\n",
      "Model Intercept: 841.8648511973392\n",
      "Prediction on training set: [1817.35578197  750.26698454 1335.35705569 2395.05576609 1234.02766579\n",
      " 1082.         1880.31787381 4970.82132624 3975.         1312.00925367]\n",
      "Actual Training data: [1775.  665. 1579. 2799. 1099. 1082. 2349. 5499. 3975.  989.]\n",
      "Prediction Test set: [ 375.85379333  729.         1471.54909857 1009.51036365 2124.73522389\n",
      "  828.5664739  1474.70233644  773.27947297   87.035582   1237.93154171]\n",
      "Actual Test data: [ 450.    729.   1079.   1049.26 1899.   1018.    752.    649.    289.\n",
      " 1962.99]\n"
     ]
    }
   ],
   "source": [
    "# Step 5 - Train Linear Regression (on scaled data)\n",
    "lin_reg = LinearRegression()\n",
    "lin_reg.fit(X_train_scaled, y_train)\n",
    "\n",
    "# Display the model's coefficient and intercept \n",
    "print(f'Model Coeffient: {lin_reg.coef_}')\n",
    "print(f'Model Intercept: {lin_reg.intercept_}')\n",
    "\n",
    "# Make predictions on the training data \n",
    "y_train_pred_lr = lin_reg.predict(X_train_scaled)\n",
    "\n",
    "print(f'Prediction on training set: {y_train_pred_lr[:10]}')\n",
    "print(f'Actual Training data: {y_train[:10].values}')\n",
    "\n",
    "# Make predictions on the test data \n",
    "y_pred_lr = lin_reg.predict(X_test_scaled)\n",
    "\n",
    "print(f'Prediction Test set: {y_pred_lr[:10]}')\n",
    "print(f'Actual Test data: {y_test[:10].values}')"
   ]
  },
  {
   "cell_type": "code",
   "execution_count": 23,
   "id": "b0b7cb27",
   "metadata": {},
   "outputs": [
    {
     "name": "stdout",
     "output_type": "stream",
     "text": [
      "LinearRegression()\n"
     ]
    }
   ],
   "source": [
    "print(lin_reg)"
   ]
  },
  {
   "cell_type": "markdown",
   "id": "62868be9",
   "metadata": {},
   "source": [
    "### Step 6 — Evaluate Linear Regression\n",
    "(Print MAE, RMSE and R²)"
   ]
  },
  {
   "cell_type": "code",
   "execution_count": 8,
   "id": "455cbb17",
   "metadata": {},
   "outputs": [
    {
     "name": "stdout",
     "output_type": "stream",
     "text": [
      "Linear Regression Performance:\n",
      "MAE: 193.112\n",
      "MSE: 94196.831\n",
      "RMSE: 306.915\n",
      "R²: 0.808\n"
     ]
    }
   ],
   "source": [
    "# Step 6 - Evaluate linear regression\n",
    "mae_lr = mean_absolute_error(y_test, y_pred_lr)\n",
    "mse_lr = mean_squared_error(y_test, y_pred_lr)\n",
    "rmse_lr = np.sqrt(mean_squared_error(y_test, y_pred_lr))   # <- replace squared=False with np.sqrt(...)\n",
    "r2_lr = r2_score(y_test, y_pred_lr)\n",
    "\n",
    "print(\"Linear Regression Performance:\")\n",
    "print(f\"MAE: {mae_lr:.3f}\")\n",
    "print(f\"MSE: {mse_lr:.3f}\")\n",
    "print(f\"RMSE: {rmse_lr:.3f}\")\n",
    "print(f\"R²: {r2_lr:.3f}\")"
   ]
  },
  {
   "cell_type": "markdown",
   "id": "1802e1b2",
   "metadata": {},
   "source": [
    "### Step 7 — Stronger model: Random Forest Regressor\n",
    "- Train a Random Forest. \n",
    "- Trees don't require scaling; we'll use the unscaled features."
   ]
  },
  {
   "cell_type": "code",
   "execution_count": 16,
   "id": "0566286b",
   "metadata": {},
   "outputs": [
    {
     "name": "stdout",
     "output_type": "stream",
     "text": [
      "Prediction on training set:\n",
      " [516.2751     645.8089     317.38735    631.62527667 510.6421\n",
      " 511.1686     348.88       440.94223333 788.59526667 507.4166    ]\n",
      "\n",
      "Actual Training data:\n",
      " [1775.  665. 1579. 2799. 1099. 1082. 2349. 5499. 3975.  989.]\n",
      "\n",
      "Prediction Test set:\n",
      " [ 429.3104      904.7185     1385.103      1027.5448     2150.1064\n",
      "  892.58643333 1295.22263333  787.03173333  288.377      1321.3456    ]\n",
      "\n",
      "Actual Test data:\n",
      " [ 450.    729.   1079.   1049.26 1899.   1018.    752.    649.    289.\n",
      " 1962.99]\n",
      "\n"
     ]
    }
   ],
   "source": [
    "# Step 7 - Train Random Forest (use unscaled data)\n",
    "rf = RandomForestRegressor(n_estimators=100, random_state=RANDOM_STATE, n_jobs=-1)\n",
    "rf.fit(X_train_encoded, y_train)\n",
    "\n",
    "y_train_pred_rf = rf.predict(X_train_scaled)\n",
    "\n",
    "print(f'Prediction on training set:\\n {y_train_pred_rf[:10]}\\n')\n",
    "print(f'Actual Training data:\\n {y_train[:10].values}\\n')\n",
    "\n",
    "\n",
    "y_pred_rf = rf.predict(X_test_encoded)\n",
    "\n",
    "print(f'Prediction Test set:\\n {y_pred_rf[:10]}\\n')\n",
    "print(f'Actual Test data:\\n {y_test[:10].values}\\n')"
   ]
  },
  {
   "cell_type": "markdown",
   "id": "8a1d6b8e",
   "metadata": {},
   "source": [
    "### Step 8 — Evaluate Random Forest\n",
    "- Compare metrics with linear model."
   ]
  },
  {
   "cell_type": "code",
   "execution_count": 10,
   "id": "5d4a0941",
   "metadata": {},
   "outputs": [
    {
     "name": "stdout",
     "output_type": "stream",
     "text": [
      "Random Forest Performance:\n",
      "MAE: 160.62\n",
      "RMSE: 260.61\n",
      "R²: 0.8619\n"
     ]
    }
   ],
   "source": [
    "# Step 8 - Evaluate Random Forest\n",
    "mae_rf  = mean_absolute_error(y_test, y_pred_rf)\n",
    "rmse_rf = np.sqrt(mean_squared_error(y_test, y_pred_rf))\n",
    "r2_rf   = r2_score(y_test, y_pred_rf)\n",
    "\n",
    "print(\"Random Forest Performance:\")\n",
    "print(f\"MAE: {mae_rf:.2f}\")\n",
    "print(f\"RMSE: {rmse_rf:.2f}\")\n",
    "print(f\"R²: {r2_rf:.4f}\")"
   ]
  },
  {
   "cell_type": "markdown",
   "id": "f7fac626",
   "metadata": {},
   "source": [
    "### Step 9: Compare Models\n",
    "- Collect metrics into a DataFrame for easy comparison."
   ]
  },
  {
   "cell_type": "code",
   "execution_count": 11,
   "id": "8029953e",
   "metadata": {},
   "outputs": [
    {
     "data": {
      "text/html": [
       "<div>\n",
       "<style scoped>\n",
       "    .dataframe tbody tr th:only-of-type {\n",
       "        vertical-align: middle;\n",
       "    }\n",
       "\n",
       "    .dataframe tbody tr th {\n",
       "        vertical-align: top;\n",
       "    }\n",
       "\n",
       "    .dataframe thead th {\n",
       "        text-align: right;\n",
       "    }\n",
       "</style>\n",
       "<table border=\"1\" class=\"dataframe\">\n",
       "  <thead>\n",
       "    <tr style=\"text-align: right;\">\n",
       "      <th></th>\n",
       "      <th>model</th>\n",
       "      <th>MAE</th>\n",
       "      <th>RMSE</th>\n",
       "      <th>R²</th>\n",
       "    </tr>\n",
       "  </thead>\n",
       "  <tbody>\n",
       "    <tr>\n",
       "      <th>1</th>\n",
       "      <td>RandomForest</td>\n",
       "      <td>160.623555</td>\n",
       "      <td>260.614212</td>\n",
       "      <td>0.861885</td>\n",
       "    </tr>\n",
       "    <tr>\n",
       "      <th>0</th>\n",
       "      <td>LinearRegression</td>\n",
       "      <td>193.112201</td>\n",
       "      <td>306.915022</td>\n",
       "      <td>0.808451</td>\n",
       "    </tr>\n",
       "  </tbody>\n",
       "</table>\n",
       "</div>"
      ],
      "text/plain": [
       "              model         MAE        RMSE        R²\n",
       "1      RandomForest  160.623555  260.614212  0.861885\n",
       "0  LinearRegression  193.112201  306.915022  0.808451"
      ]
     },
     "metadata": {},
     "output_type": "display_data"
    },
    {
     "name": "stdout",
     "output_type": "stream",
     "text": [
      "Saved metrics to ../reports/model_results_summary.csv\n"
     ]
    }
   ],
   "source": [
    "results = pd.DataFrame({\n",
    "    \"model\": [\"LinearRegression\", \"RandomForest\"],\n",
    "    \"MAE\": [mae_lr, mae_rf],\n",
    "    \"RMSE\": [rmse_lr, rmse_rf],\n",
    "    \"R²\": [r2_lr, r2_rf]\n",
    "})\n",
    "display(results.sort_values(\"R²\", ascending=False))\n",
    "# Save metrics\n",
    "results.to_csv(\"../reports/model_results_summary.csv\", index=False)\n",
    "print(\"Saved metrics to ../reports/model_results_summary.csv\")"
   ]
  },
  {
   "cell_type": "markdown",
   "id": "2c62b6e3",
   "metadata": {},
   "source": [
    "### Step 10 — Visualize predictions vs actual\n",
    "- Plot actual vs predicted and a 45° line to see fit."
   ]
  },
  {
   "cell_type": "code",
   "execution_count": 17,
   "id": "c478d932",
   "metadata": {},
   "outputs": [
    {
     "data": {
      "image/png": "[encoded data removed]",
      "text/plain": [
       "<Figure size 800x800 with 1 Axes>"
      ]
     },
     "metadata": {},
     "output_type": "display_data"
    },
    {
     "name": "stdout",
     "output_type": "stream",
     "text": [
      "Plot saved to ../reports/figures/actual_vs_predicted_linear_regression.png\n"
     ]
    }
   ],
   "source": [
    "# Step 10 - Visualize Linear Regression results only\n",
    "best_pred = y_pred_lr\n",
    "\n",
    "plt.figure(figsize=(8,8))\n",
    "plt.scatter(y_test, best_pred, alpha=0.9, s=20)\n",
    "lims = [min(y_test.min(), best_pred.min()), max(y_test.max(), best_pred.max())]\n",
    "plt.plot(lims, lims, 'r--', linewidth=1)  # identity line\n",
    "plt.xlabel(\"Actual Price (euros)\")\n",
    "plt.ylabel(\"Predicted Price (euros)\")\n",
    "plt.title(\"Actual vs Predicted — Linear Regression\")\n",
    "plt.xlim(lims)\n",
    "plt.ylim(lims)\n",
    "plt.grid(True)\n",
    "plt.savefig(\"../reports/figures/actual_vs_predicted_linear_regression.png\", dpi=150)\n",
    "plt.show()\n",
    "print(\"Plot saved to ../reports/figures/actual_vs_predicted_linear_regression.png\")"
   ]
  },
  {
   "cell_type": "code",
   "execution_count": 22,
   "id": "62e095f4",
   "metadata": {},
   "outputs": [
    {
     "data": {
      "image/png": "[encoded data removed]",
      "text/plain": [
       "<Figure size 800x800 with 1 Axes>"
      ]
     },
     "metadata": {},
     "output_type": "display_data"
    }
   ],
   "source": [
    "# Step 10 - Visualize best model results(For Random Forest)\n",
    "best_model = rf if r2_rf >= r2_lr else lin_reg\n",
    "best_pred_rf = y_pred_rf if best_model is rf else y_pred_lr\n",
    "\n",
    "plt.figure(figsize=(8,8))\n",
    "plt.scatter(y_test, best_pred, alpha=0.9, s=20)\n",
    "limits = [min(y_test.min(), best_pred.min()), max(y_test.max(), best_pred.max())]\n",
    "plt.plot(limits, limits, 'r--', linewidth=1)  # identity line\n",
    "plt.xlabel(\"Actual Price (euros)\")\n",
    "plt.ylabel(\"Predicted Price (euros)\")\n",
    "plt.title(\"Actual vs Predicted — Best Model(Random Forest Regression)\")\n",
    "plt.xlim(limits)\n",
    "plt.ylim(limits)\n",
    "plt.grid(True)\n",
    "plt.savefig(\"../reports/figures/actual_vs_predicted_best_model.png\", dpi=150)\n",
    "plt.show()"
   ]
  },
  {
   "cell_type": "markdown",
   "id": "6d221319",
   "metadata": {},
   "source": [
    "### Initial Model Training Results\n",
    "\n",
    "We compared two models: Linear Regression and Random Forest.\n",
    "\n",
    "- **Linear Regression** achieved an R² of 0.812, RMSE of €304.02, and MAE of €216.53.\n",
    "- **Random Forest** achieved an R² of 0.858, RMSE of €264.62, and MAE of €176.32.\n",
    "\n",
    "**Conclusion:** Random Forest performs better overall, explaining more of the variance in laptop prices and reducing prediction error by around €40 on average compared to Linear Regression. We selected Random Forest as the final model and saved it for deployment.\n"
   ]
  },
  {
   "cell_type": "markdown",
   "id": "8706f411",
   "metadata": {},
   "source": [
    "### Step 11 — Save the best model for deployment\n",
    "- Simply save the model file to `../models` for use in Streamlit or inference."
   ]
  },
  {
   "cell_type": "code",
   "execution_count": null,
   "id": "dbd69f50",
   "metadata": {},
   "outputs": [
    {
     "name": "stdout",
     "output_type": "stream",
     "text": [
      "Saved best model to ../models/laptop_price_model.pkl\n"
     ]
    }
   ],
   "source": [
    "best_model_path = \"../models/laptop_price_model.pkl\"\n",
    "joblib.dump(lin_reg, best_model_path)\n",
    "print(f\"Saved best model to {best_model_path}\")\n",
    "# If you trained linear regression and plan to use the scaler, scaler already saved earlier."
   ]
  },
  {
   "cell_type": "markdown",
   "id": "814ace61",
   "metadata": {},
   "source": [
    "### Step 12 — Next steps (notes)\n",
    "- If Random Forest is best, consider GridSearchCV / RandomizedSearchCV to tune hyperparameters.\n",
    "- If deployment is required, create a small API or Streamlit app that loads `../models/laptop_price_model.pkl` and `../models/scaler.pkl`.\n",
    "- Save feature list and preprocessing steps (so you apply exactly the same transforms at inference)."
   ]
  },
  {
   "cell_type": "code",
   "execution_count": 14,
   "id": "b6fa51a0",
   "metadata": {},
   "outputs": [
    {
     "name": "stdout",
     "output_type": "stream",
     "text": [
      "Saved feature names to ../models/feature_names.pkl\n"
     ]
    }
   ],
   "source": [
    "# Step 12 - Save feature list\n",
    "feature_list_path = \"../models/feature_names.pkl\"\n",
    "joblib.dump(X_train_encoded.columns.tolist(), feature_list_path)\n",
    "print(f\"Saved feature names to {feature_list_path}\")\n"
   ]
  }
 ],
 "metadata": {
  "kernelspec": {
   "display_name": "Python 3",
   "language": "python",
   "name": "python3"
  },
  "language_info": {
   "codemirror_mode": {
    "name": "ipython",
    "version": 3
   },
   "file_extension": ".py",
   "mimetype": "text/x-python",
   "name": "python",
   "nbconvert_exporter": "python",
   "pygments_lexer": "ipython3",
   "version": "3.13.3"
  }
 },
 "nbformat": 4,
 "nbformat_minor": 5
}
