{
 "cells": [
  {
   "cell_type": "markdown",
   "id": "c1d5e1af",
   "metadata": {},
   "source": [
    "# Laptop Price Prediction - Exploratory Data Analysis (EDA)\n",
    "\n",
    "In this notebook, we will explore the dataset to understnad relationships between features and the target variable (`Price_euros`).\n",
    "We will:\n",
    "1. Explore numeric features (distributions, correlations)\n",
    "2. Explore categorical features (company, type, etc.)\n",
    "3. Visualize feature-target relationships"
   ]
  },
  {
   "cell_type": "markdown",
   "id": "dd46eda2",
   "metadata": {},
   "source": [
    "### Step 0: Setup\n",
    "Import necessary libraries and load the cleaned dataset from `../data/processed/laptops_clean.csv`."
   ]
  },
  {
   "cell_type": "code",
   "execution_count": null,
   "id": "7d5d069c",
   "metadata": {
    "vscode": {
     "languageId": "plaintext"
    }
   },
   "outputs": [],
   "source": [
    "import pandas as pd\n",
    "import matplotlib.pyplot as plt\n",
    "import seaborn as sns\n",
    "\n",
    "# Make plots look nicer\n",
    "sns.set(style=\"whitegrid\")\n",
    "\n",
    "# Load the cleaned dataset\n",
    "data = pd.read_csv(\"../data/processed/laptops_clean.csv\")\n",
    "\n",
    "# Quick check\n",
    "print(\"Shape:\", data.shape)\n",
    "data.head()"
   ]
  },
  {
   "cell_type": "markdown",
   "id": "1fd5b042",
   "metadata": {},
   "source": [
    "### Step 1: Basic Statistics\n",
    "Check the shape, summary statistics, and missing values."
   ]
  },
  {
   "cell_type": "code",
   "execution_count": null,
   "id": "7b851e15",
   "metadata": {
    "vscode": {
     "languageId": "plaintext"
    }
   },
   "outputs": [],
   "source": [
    "print(\"Shape of dataset:\", data.shape)\n",
    "print(\"\\nMissing values:\\n\", data.isnull().sum())\n",
    "data.describe()"
   ]
  },
  {
   "cell_type": "markdown",
   "id": "6dc4c1f4",
   "metadata": {},
   "source": [
    "### Step 2: Distribution of Price\n",
    "Visualize the distribution of the target variable to see its spread."
   ]
  },
  {
   "cell_type": "code",
   "execution_count": null,
   "id": "78b52693",
   "metadata": {
    "vscode": {
     "languageId": "plaintext"
    }
   },
   "outputs": [],
   "source": [
    "import matplotlib.pyplot as plt\n",
    "import seaborn as sns\n",
    "\n",
    "plt.figure(figsize=(8,5))\n",
    "sns.histplot(data['Price_euros'], bins=50, kde=True)\n",
    "plt.title(\"Distribution of Laptop Prices\")\n",
    "plt.xlabel(\"Price (Euros)\")\n",
    "plt.ylabel(\"Count\")\n",
    "plt.show()"
   ]
  },
  {
   "cell_type": "markdown",
   "id": "1f4a5504",
   "metadata": {},
   "source": [
    "### Step 3: Correlation Heatmap\n",
    "Check correlations among numeric features and price."
   ]
  },
  {
   "cell_type": "code",
   "execution_count": null,
   "id": "9f513f79",
   "metadata": {
    "vscode": {
     "languageId": "plaintext"
    }
   },
   "outputs": [],
   "source": [
    "plt.figure(figsize=(12,8))\n",
    "sns.heatmap(data.corr(), annot=False, cmap=\"coolwarm\")\n",
    "plt.title(\"Correlation Heatmap\")\n",
    "plt.show()"
   ]
  },
  {
   "cell_type": "markdown",
   "id": "2413903d",
   "metadata": {},
   "source": [
    "### Step 4: Price vs Company\n",
    "Check how average laptop price varies by company."
   ]
  },
  {
   "cell_type": "code",
   "execution_count": null,
   "id": "3ea90054",
   "metadata": {
    "vscode": {
     "languageId": "plaintext"
    }
   },
   "outputs": [],
   "source": [
    "plt.figure(figsize=(12,6))\n",
    "sns.boxplot(x=\"Company, y=\"Price_euros\", data=data)\n",
    "plt.xticks(rotation=45)\n",
    "plt.title(\"Laptop Price by Company\")\n",
    "plt.show()"
   ]
  },
  {
   "cell_type": "markdown",
   "id": "dcb271da",
   "metadata": {},
   "source": [
    "### Step 5: Price vs Laptop Type\n",
    "Check how average price varies by type (e.g., Ultrabook, Gaming)."
   ]
  },
  {
   "cell_type": "code",
   "execution_count": null,
   "id": "b5a45894",
   "metadata": {
    "vscode": {
     "languageId": "plaintext"
    }
   },
   "outputs": [],
   "source": [
    "plt.figure(figsize=(12,6))\n",
    "sns.boxplot(x=\"TypeName\", y=\"Price_euros\", data=data)\n",
    "plt.xticks(rotation=45)\n",
    "plt.title(\"Laptop Price by Type')\n",
    "plt.show()"
   ]
  },
  {
   "cell_type": "markdown",
   "id": "47aebb51",
   "metadata": {},
   "source": [
    "### Step 6: Price vs RAM\n",
    "Check how price changes with RAM size."
   ]
  },
  {
   "cell_type": "code",
   "execution_count": null,
   "id": "c5680ed3",
   "metadata": {
    "vscode": {
     "languageId": "plaintext"
    }
   },
   "outputs": [],
   "source": [
    "plt.figure(figsize=(8,5))\n",
    "sns.scatterplot(x=\"Ram\", y=\"Price_euros\", data=data)\n",
    "plt.title(\"Price vs RAM\")\n",
    "plt.show()"
   ]
  },
  {
   "cell_type": "markdown",
   "id": "4039c018",
   "metadata": {},
   "source": [
    "### Step 7: Price vs Weight\n",
    "Check if lighter laptops tend to cost more."
   ]
  },
  {
   "cell_type": "code",
   "execution_count": null,
   "id": "dd09a4e6",
   "metadata": {
    "vscode": {
     "languageId": "plaintext"
    }
   },
   "outputs": [],
   "source": [
    "plt.figure(figsize=(8,5))\n",
    "sns.scatterplot(x=\"Weight\", y=\"Price_euros\", data=data)\n",
    "plt.title(\"Price vs Weight\")\n",
    "plt.show()"
   ]
  },
  {
   "cell_type": "markdown",
   "id": "818e3b9a",
   "metadata": {},
   "source": [
    "### Step 8: Save EDA Figures (Optional)\n",
    "We can save plots for reports/presentation."
   ]
  },
  {
   "cell_type": "code",
   "execution_count": null,
   "id": "21b1c7a2",
   "metadata": {
    "vscode": {
     "languageId": "plaintext"
    }
   },
   "outputs": [],
   "source": [
    "plt.figure(figsize=(8,5))\n",
    "sns.histplot(data[\"Price_euros\"], bins=50, kde=True)\n",
    "plt.savefig(\"../reports/figures/price_distribution.png\")"
   ]
  }
 ],
 "metadata": {
  "language_info": {
   "name": "python"
  }
 },
 "nbformat": 4,
 "nbformat_minor": 5
}
